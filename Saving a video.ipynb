{
 "cells": [
  {
   "cell_type": "code",
   "execution_count": null,
   "metadata": {},
   "outputs": [],
   "source": [
    "#saving a video file\n",
    "\n",
    "import cv2\n",
    "\n",
    "#x,y,z are three image frames\n",
    "#fun create image diff\n",
    "def create_image_diff(x,y,z):\n",
    "    img1_df=cv2.absdiff(x,y)\n",
    "    img2_df=cv2.absdiff(y,z)\n",
    "    img3=cv2.bitwise_and( img1_df, img2_df)\n",
    "    return img3\n",
    "#starting webcam\n",
    "cap=cv2.VideoCapture(0)\n",
    "tp1=cap.read()[1]\n",
    "tp2=cap.read()[1]\n",
    "tp3=cap.read()[1]\n",
    "\n",
    "\n",
    "#converting into grayscale\n",
    "gray1=cv2.cvtColor(tp1,cv2.COLOR_BGR2GRAY)\n",
    "gray2=cv2.cvtColor(tp2,cv2.COLOR_BGR2GRAY)\n",
    "gray3=cv2.cvtColor(tp3,cv2.COLOR_BGR2GRAY)\n",
    "\n",
    "while True:\n",
    "    #calling function\n",
    "    new_img=create_image_diff(gray1,gray2,gray3)\n",
    "    cv2.imshow('pic',new_img)\n",
    "    \n",
    "    #capture new image\n",
    "    status,frame=cap.read()\n",
    "    cv2.imshow('original',frame)\n",
    "    \n",
    "    #excahnge image\n",
    "    gray1=gray2\n",
    "    gray2=gray3\n",
    "    gray3=cv2.cvtColor(frame,cv2.COLOR_BGR2GRAY)   \n",
    "    \n",
    "    if cv2.waitKey(1) & 0xFF==('q'):\n",
    "        break\n",
    "        \n",
    "    \n",
    "fourcc=cv2.VideoWriter_fourcc(*'XVID')\n",
    "out=cv2.VideoWriter('it.avi',fourcc,20.0,(640,480))\n",
    "cap.release()\n",
    "cv2.destroyAllWindows()"
   ]
  }
 ],
 "metadata": {
  "kernelspec": {
   "display_name": "Python 3",
   "language": "python",
   "name": "python3"
  },
  "language_info": {
   "codemirror_mode": {
    "name": "ipython",
    "version": 2
   },
   "file_extension": ".py",
   "mimetype": "text/x-python",
   "name": "python",
   "nbconvert_exporter": "python",
   "pygments_lexer": "ipython2",
   "version": "2.7.12"
  }
 },
 "nbformat": 4,
 "nbformat_minor": 2
}
