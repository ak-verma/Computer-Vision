{
 "cells": [
  {
   "cell_type": "markdown",
   "metadata": {},
   "source": [
    "# Detecting a particular color in an image"
   ]
  },
  {
   "cell_type": "code",
   "execution_count": null,
   "metadata": {},
   "outputs": [],
   "source": [
    "#imporing cv2 library\n",
    "import cv2\n",
    "#reading the image and 1 is for image in original color\n",
    "x=cv2.imread('Redhat1.jpg',1)\n",
    "#taking input as to whatcolor the user want to see\n",
    "a=int(input('Enter the color you want to see: Red(1),Blue(2),Green(3)'))\n",
    "'''applying simple if else rule with \n",
    "1 for red, 2 for blue, 3 for green'''\n",
    "if a==1:\n",
    "    x=cv2.inRange(x,(0,0,40),(20,20,255))\n",
    "if a==2:\n",
    "    x=cv2.inRange(x,(50,0,0),(255,20,20))\n",
    "if a==3:\n",
    "    x=cv2.inRange(x,(0,50,0),(20,255,20))\n",
    "#seeing the image, color_detected is the name that you'll see on the window screen\n",
    "cv2.imshow('color_detected',x)\n",
    "#will wait for infinite time\n",
    "cv2.waitKey(0)\n",
    "            \n",
    "cv2.destroyAllWindows()"
   ]
  }
 ],
 "metadata": {
  "kernelspec": {
   "display_name": "Python 3",
   "language": "python",
   "name": "python3"
  },
  "language_info": {
   "codemirror_mode": {
    "name": "ipython",
    "version": 2
   },
   "file_extension": ".py",
   "mimetype": "text/x-python",
   "name": "python",
   "nbconvert_exporter": "python",
   "pygments_lexer": "ipython2",
   "version": "2.7.12"
  }
 },
 "nbformat": 4,
 "nbformat_minor": 2
}
